{
 "cells": [
  {
   "cell_type": "code",
   "execution_count": 1,
   "metadata": {},
   "outputs": [],
   "source": [
    "import numpy as np\n",
    "\n",
    "class Mapa:\n",
    "    def __init__(self,nodes,neighbors,begin,end):\n",
    "        self.nodes=nodes\n",
    "        self.begin=begin\n",
    "        self.end=end\n",
    "        self.neighbors=neighbors\n",
    "        \n",
    "    def setStart(begin):\n",
    "        self.begin=begin\n",
    "            \n",
    "    def setEnd(end):\n",
    "        self.end=end"
   ]
  },
  {
   "cell_type": "code",
   "execution_count": 13,
   "metadata": {},
   "outputs": [],
   "source": [
    "def euklid(a,b):\n",
    "    sums=0\n",
    "    for i in range(len(a)):\n",
    "        sums\n",
    "        sums+=(b[i]-a[i])**2\n",
    "    return sums**(1/2)\n",
    "\n",
    "def manhatan(a,b):\n",
    "    sums=0\n",
    "    for i in range(len(a)):\n",
    "        sums+=abs(a[i]-b[i])\n",
    "    return sums\n",
    "        \n",
    "def maximum(a,b):\n",
    "    list1=[]\n",
    "    for i in range(len(a)):\n",
    "        list1.append(abs(a[i]-b[i]))\n",
    "    return max(list1)\n",
    "\n",
    "def lenght_of_road(list1,points,metric):\n",
    "    sums=0\n",
    "    for i in range(len(list1)-1):\n",
    "        sums+=metric(points[list1[i]],points[list1[i+1]])\n",
    "    return sums"
   ]
  },
  {
   "cell_type": "code",
   "execution_count": 23,
   "metadata": {},
   "outputs": [],
   "source": [
    "def solve_aco(maps,metric=euklid,heuristic_coefficient=1,feromones_coefficient=1):\n",
    "    ants=5\n",
    "    repetitions=10\n",
    "    #na podstawie mapy tworzymy słownik wszystkich możliwych ścieżek przypisując im bazową liczbę fermonów: 1\n",
    "    every_trial_in_graph={}\n",
    "    for i in maps.nodes:\n",
    "        node1=i[0]\n",
    "        for j in maps.neighbors[i[0]]:\n",
    "            node2=j\n",
    "            single_trial=frozenset({node1,node2})\n",
    "            if single_trial not in every_trial_in_graph.keys():\n",
    "                every_trial_in_graph.update({single_trial:1})\n",
    "\n",
    "    #algorytm główny            \n",
    "    for repetition in range(repetitions):\n",
    "        #lista która trzyma  trasy wszystkich mrówek w danym powtórzeniu\n",
    "        list_of_tracks_of_every_ant=[]\n",
    "        last_repetiton_roads={}\n",
    "        for ant in range(ants):\n",
    "            current_node=maps.begin\n",
    "            nodes_visited_by_ant=[maps.begin]\n",
    "            while current_node!=maps.end:\n",
    "                #pobieramy listę sąsiadów wierzchołka w którym jesteśmy i tworzymy liste wierzchołków z których będziemy wybierać\n",
    "                neighbour_nodes=list(maps.neighbors[current_node])\n",
    "                nodes_to_choose=[]\n",
    "                #dodajemy wierzchołki w których mrówka nie była\n",
    "                for node in neighbour_nodes:\n",
    "                    if node not in nodes_visited_by_ant:\n",
    "                        nodes_to_choose.append(node)\n",
    "                #jeśli widzimy ostatni punkt to go od razu wybieramy\n",
    "                if maps.end in nodes_to_choose:\n",
    "                    choosen_node=maps.end\n",
    "                \n",
    "                else:\n",
    "                    #jeśli wszystkie wierzchołki odwiedzone, to wybieramy z wszystkich dostępnych\n",
    "                    if nodes_to_choose==[]:\n",
    "                        nodes_to_choose=neighbour_nodes\n",
    "                    sum_for_probabilty=0\n",
    "                    #liczymy sume wszystkich wskaźników\n",
    "                    for node in nodes_to_choose:\n",
    "                        heuristic=metric(maps.nodes[node],maps.nodes[current_node])/metric(maps.nodes[node],maps.nodes[maps.end])\n",
    "                        feromones=every_trial_in_graph[frozenset({current_node,node})]\n",
    "                        sum_for_probabilty+=(heuristic**heuristic_coefficient)*(feromones**feromones_coefficient)\n",
    "                    random_for_probaiblity=np.random.random_sample()\n",
    "                    chance_sum=0\n",
    "                    #wybieramy punkt do którego pójdzie mrówka\n",
    "                    for node in nodes_to_choose:\n",
    "                        heuristic=metric(maps.nodes[node],maps.nodes[current_node])/metric(maps.nodes[node],maps.nodes[maps.end])\n",
    "                        feromones=every_trial_in_graph[frozenset({current_node,node})]\n",
    "                        chance_sum+=(heuristic**heuristic_coefficient)*(feromones**feromones_coefficient)/sum_for_probabilty\n",
    "                        if chance_sum>random_for_probaiblity:\n",
    "                            choosen_node=node\n",
    "                            break    \n",
    "                nodes_visited_by_ant.append(choosen_node)\n",
    "                current_node=choosen_node\n",
    "            #tworzymy listę wszystkich ścieżek które przeszły mrówki - elementami są ścieżki \n",
    "            road_of_current_ant_using_trials=[]\n",
    "            for k in range(len(nodes_visited_by_ant)-1):\n",
    "                road_of_current_ant_using_trials.append(frozenset({nodes_visited_by_ant[k],nodes_visited_by_ant[k+1]}))\n",
    "            list_of_tracks_of_every_ant.append(road_of_current_ant_using_trials)\n",
    "            #jeśli to ostatnia próba to zliczamy ile razy dana trasa została pokonana\n",
    "            if repetition==(repetitions-1):\n",
    "                if tuple(nodes_visited_by_ant) in last_repetiton_roads:\n",
    "                    last_repetiton_roads[tuple(nodes_visited_by_ant)]+=1\n",
    "                else:\n",
    "                    last_repetiton_roads[tuple(nodes_visited_by_ant)]=1\n",
    "        \n",
    "        #aktualizacja feromonów\n",
    "        #najpierw połowa wyparowuje\n",
    "        for trial in every_trial_in_graph:\n",
    "            every_trial_in_graph[trial]=every_trial_in_graph[trial]*0.5\n",
    "        #teraz dodajemy tam gdzie mrówki chodziły\n",
    "        for track in list_of_tracks_of_every_ant:\n",
    "            track_length=0\n",
    "            for trial_nodes in track:\n",
    "                trial_as_list=list(trial_nodes)\n",
    "                track_length+=metric(maps.nodes[trial_as_list[0]],maps.nodes[trial_as_list[1]])\n",
    "            for trial_nodes in track:\n",
    "                every_trial_in_graph[trial_nodes]+=5/(track_length-metric(maps.nodes[maps.begin],maps.nodes[maps.end]))**3\n",
    "    \n",
    "    print(last_repetiton_roads)"
   ]
  },
  {
   "cell_type": "code",
   "execution_count": 4,
   "metadata": {},
   "outputs": [],
   "source": [
    "lista={\n",
    "    \"A\":(6,0),\n",
    "    \"B\":(2,2),\n",
    "    \"C\":(8,2),\n",
    "    \"D\":(4,4),\n",
    "    \"E\":(6,6),\n",
    "    \"F\":(4,8),\n",
    "    \"G\":(6,10),\n",
    "    \"F\":(4,8),\n",
    "    \"H\":(8,8),\n",
    "    \"I\":(2,6)\n",
    "}\n",
    "\n",
    "sasiedzi={\n",
    "    \"A\":(\"B\",\"C\",\"D\"),\n",
    "    \"B\":(\"A\",\"I\"),\n",
    "    \"C\":(\"A\",\"E\"),\n",
    "    \"D\":(\"A\",\"I\",\"E\"),\n",
    "    \"E\":(\"F\",\"G\",\"H\",\"C\",\"D\",),\n",
    "    \"F\":(\"I\",\"E\"),\n",
    "    \"G\":(\"E\",\"H\"),\n",
    "    \"H\":(\"E\",\"G\"),\n",
    "    \"I\":(\"F\",\"D\"),\n",
    "}"
   ]
  },
  {
   "cell_type": "code",
   "execution_count": 8,
   "metadata": {},
   "outputs": [],
   "source": [
    "lista2={\n",
    "    \"A\":(4,1), \n",
    "    \"B\":(2,4), \n",
    "    \"C\":(8,1), \n",
    "    \"D\":(6,3), \n",
    "    \"E\":(2,7), \n",
    "    \"F\":(4,6), \n",
    "    \"G\":(10,4), \n",
    "    \"F\":(4,6), \n",
    "    \"H\":(12,8), \n",
    "    \"I\":(8,9), \n",
    "    \"J\":(7,6), \n",
    "    \"K\":(5,10), \n",
    "    \"L\":(11,11), \n",
    "    \"M\":(13,3), \n",
    "    \"N\":(12,1) \n",
    "    } \n",
    "\n",
    "sasiedzi2={\n",
    "    \"A\":(\"B\",\"C\",\"D\",\"E\"), \n",
    "    \"B\":(\"A\",\"aK\"), \n",
    "    \"C\":(\"A\",\"G\",\"L\"), \n",
    "    \"D\":(\"A\",\"F\",\"G\"), \n",
    "    \"E\":(\"A\",\"F\",\"J\"), \n",
    "    \"F\":(\"D\",\"E\",\"J\"), \n",
    "    \"G\":(\"C\",\"D\",\"K\",\"M\"), \n",
    "    \"H\":(\"J\",\"L\"), \n",
    "    \"I\":(\"J\",\"L\",\"N\"), \n",
    "    \"J\":(\"E\",\"F\",\"H\",\"I\"), \n",
    "    \"K\":(\"B\",\"G\"), \n",
    "    \"L\":(\"C\",\"H\",\"I\"), \n",
    "    \"M\":(\"G\",\"N\"), \n",
    "    \"N\":(\"I\",\"M\"), \n",
    "    }   "
   ]
  },
  {
   "cell_type": "code",
   "execution_count": null,
   "metadata": {},
   "outputs": [],
   "source": []
  },
  {
   "cell_type": "code",
   "execution_count": null,
   "metadata": {},
   "outputs": [],
   "source": []
  },
  {
   "cell_type": "code",
   "execution_count": null,
   "metadata": {},
   "outputs": [],
   "source": []
  },
  {
   "cell_type": "code",
   "execution_count": 5,
   "metadata": {},
   "outputs": [],
   "source": [
    "plansza1= Mapa(lista,sasiedzi,'A',\"G\")"
   ]
  },
  {
   "cell_type": "code",
   "execution_count": 9,
   "metadata": {},
   "outputs": [],
   "source": [
    "plansza2= Mapa(lista2,sasiedzi2,'A',\"H\")"
   ]
  },
  {
   "cell_type": "code",
   "execution_count": 24,
   "metadata": {
    "scrolled": true
   },
   "outputs": [
    {
     "name": "stdout",
     "output_type": "stream",
     "text": [
      "{('A', 'D', 'F', 'J', 'H'): 5}\n",
      "{('A', 'D', 'F', 'J', 'H'): 5}\n",
      "{('A', 'D', 'F', 'J', 'H'): 5}\n",
      "{('A', 'D', 'F', 'J', 'H'): 5}\n",
      "{('A', 'D', 'F', 'J', 'H'): 5}\n",
      "{('A', 'D', 'F', 'J', 'H'): 5}\n",
      "{('A', 'E', 'J', 'H'): 4, ('A', 'B', 'K', 'G', 'D', 'F', 'J', 'H'): 1}\n",
      "{('A', 'D', 'F', 'J', 'H'): 4, ('A', 'D', 'F', 'E', 'J', 'H'): 1}\n",
      "{('A', 'E', 'J', 'H'): 5}\n",
      "{('A', 'E', 'J', 'H'): 5}\n",
      "{('A', 'D', 'F', 'J', 'H'): 5}\n",
      "{('A', 'D', 'F', 'J', 'H'): 5}\n",
      "{('A', 'E', 'F', 'J', 'H'): 5}\n",
      "{('A', 'D', 'F', 'J', 'H'): 4, ('A', 'E', 'J', 'H'): 1}\n",
      "{('A', 'D', 'F', 'J', 'H'): 5}\n",
      "{('A', 'D', 'F', 'J', 'H'): 5}\n",
      "{('A', 'D', 'F', 'J', 'H'): 5}\n",
      "{('A', 'E', 'J', 'H'): 5}\n"
     ]
    }
   ],
   "source": [
    "for i in range(18):\n",
    "    solve_aco(plansza2,metric=euklid,heuristic_coefficient=0.1,feromones_coefficient=1+(i+1)*0.1)"
   ]
  },
  {
   "cell_type": "code",
   "execution_count": 26,
   "metadata": {},
   "outputs": [
    {
     "name": "stdout",
     "output_type": "stream",
     "text": [
      "{('A', 'C', 'E', 'G'): 5}\n",
      "{('A', 'C', 'E', 'G'): 5}\n",
      "{('A', 'C', 'E', 'G'): 5}\n",
      "{('A', 'C', 'E', 'G'): 5}\n",
      "{('A', 'D', 'E', 'G'): 5}\n",
      "{('A', 'C', 'E', 'G'): 5}\n",
      "{('A', 'C', 'E', 'G'): 5}\n",
      "{('A', 'D', 'E', 'G'): 5}\n",
      "{('A', 'C', 'E', 'G'): 5}\n",
      "{('A', 'C', 'E', 'G'): 5}\n",
      "{('A', 'C', 'E', 'G'): 5}\n",
      "{('A', 'D', 'E', 'G'): 5}\n",
      "{('A', 'D', 'E', 'G'): 5}\n",
      "{('A', 'C', 'E', 'G'): 5}\n",
      "{('A', 'D', 'E', 'G'): 5}\n",
      "{('A', 'C', 'E', 'G'): 5}\n",
      "{('A', 'C', 'E', 'G'): 5}\n",
      "{('A', 'D', 'E', 'G'): 5}\n"
     ]
    }
   ],
   "source": [
    "for i in range(18):\n",
    "    solve_aco(plansza1,metric=euklid,heuristic_coefficient=0.1,feromones_coefficient=1+(i+1)*0.1)"
   ]
  },
  {
   "cell_type": "markdown",
   "metadata": {},
   "source": [
    "[]=False"
   ]
  },
  {
   "cell_type": "code",
   "execution_count": 42,
   "metadata": {},
   "outputs": [
    {
     "data": {
      "text/plain": [
       "10.63014581273465"
      ]
     },
     "execution_count": 42,
     "metadata": {},
     "output_type": "execute_result"
    }
   ],
   "source": [
    "lenght_of_road(['A','H'],lista2,euklid)"
   ]
  },
  {
   "cell_type": "code",
   "execution_count": 74,
   "metadata": {},
   "outputs": [
    {
     "data": {
      "text/plain": [
       "14.819143207344684"
      ]
     },
     "execution_count": 74,
     "metadata": {},
     "output_type": "execute_result"
    }
   ],
   "source": [
    "lenght_of_roadn(['A','D','F','J','H'],lista2,euklid)"
   ]
  },
  {
   "cell_type": "code",
   "execution_count": 73,
   "metadata": {},
   "outputs": [
    {
     "data": {
      "text/plain": [
       "16.808739641064047"
      ]
     },
     "execution_count": 73,
     "metadata": {},
     "output_type": "execute_result"
    }
   ],
   "source": [
    "lenght_of_road(['A','E','J','H'],lista2,euklid)"
   ]
  },
  {
   "cell_type": "code",
   "execution_count": 72,
   "metadata": {},
   "outputs": [
    {
     "data": {
      "text/plain": [
       "17.60258416907893"
      ]
     },
     "execution_count": 72,
     "metadata": {},
     "output_type": "execute_result"
    }
   ],
   "source": [
    "lenght_of_road(['A','C','L','H'],lista2,euklid)"
   ]
  },
  {
   "cell_type": "code",
   "execution_count": null,
   "metadata": {},
   "outputs": [],
   "source": []
  }
 ],
 "metadata": {
  "kernelspec": {
   "display_name": "Python 3",
   "language": "python",
   "name": "python3"
  },
  "language_info": {
   "codemirror_mode": {
    "name": "ipython",
    "version": 3
   },
   "file_extension": ".py",
   "mimetype": "text/x-python",
   "name": "python",
   "nbconvert_exporter": "python",
   "pygments_lexer": "ipython3",
   "version": "3.7.6"
  }
 },
 "nbformat": 4,
 "nbformat_minor": 4
}
